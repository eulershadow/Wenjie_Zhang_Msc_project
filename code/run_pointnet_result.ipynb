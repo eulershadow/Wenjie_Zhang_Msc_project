{
 "cells": [
  {
   "cell_type": "code",
   "execution_count": null,
   "metadata": {},
   "outputs": [],
   "source": [
    "import test_application as ta"
   ]
  },
  {
   "cell_type": "markdown",
   "metadata": {},
   "source": [
    "PointNet vanilla"
   ]
  },
  {
   "cell_type": "code",
   "execution_count": null,
   "metadata": {},
   "outputs": [],
   "source": [
    "ta.output_result(points = 2000, sample = \"uniform\", model_type = \"pointnet\", model_file = \"./final_models/2000points/pointnet_uniform_2000pt.pth\")"
   ]
  },
  {
   "cell_type": "markdown",
   "metadata": {},
   "source": [
    "2branch pointNet"
   ]
  },
  {
   "cell_type": "code",
   "execution_count": null,
   "metadata": {},
   "outputs": [],
   "source": [
    "ta.output_result(points = 2000, \n",
    "                 sample = \"uniform\", \n",
    "                 model_type = \"pointnet_2branch\", \n",
    "                 model_file = \"./final_models/2000points/pointnet_2branch_modal_uniform_2000pt.pth\")"
   ]
  },
  {
   "cell_type": "markdown",
   "metadata": {},
   "source": [
    "3 branch pointnet"
   ]
  },
  {
   "cell_type": "code",
   "execution_count": null,
   "metadata": {},
   "outputs": [],
   "source": [
    "ta.output_result(points = 1000, \n",
    "                 sample = \"uniform\", \n",
    "                 model_type = \"pointnet_3branch\", \n",
    "                 model_file = \"./final_models/1000points/pointnet_3branch_uniform_1000pt.pth\")"
   ]
  },
  {
   "cell_type": "code",
   "execution_count": null,
   "metadata": {},
   "outputs": [],
   "source": [
    "ta.output_result(points = 2000, \n",
    "                 sample = \"uniform\", \n",
    "                 model_type = \"pointnet_3branch\", \n",
    "                 model_file = \"./final_models/2000points/pointnet_3branch_uniform_2000pt.pth\")"
   ]
  },
  {
   "cell_type": "code",
   "execution_count": null,
   "metadata": {},
   "outputs": [],
   "source": [
    "ta.output_result(points = 1000, \n",
    "                 sample = \"uniform\", \n",
    "                 model_type = \"pointnet_3branch\", \n",
    "                 model_file = \"./final_models/2000points/pointnet_3branch_ppd_1000pt.pth\")"
   ]
  },
  {
   "cell_type": "code",
   "execution_count": null,
   "metadata": {},
   "outputs": [],
   "source": [
    "ta.output_result(points = 2000, \n",
    "                 sample = \"uniform\", \n",
    "                 model_type = \"pointnet_3branch\", \n",
    "                 model_file = \"./final_models/2000points/pointnet_3branch_ppd_2000pt.pth\")"
   ]
  }
 ],
 "metadata": {
  "kernelspec": {
   "display_name": "Python 3",
   "language": "python",
   "name": "python3"
  },
  "language_info": {
   "codemirror_mode": {
    "name": "ipython",
    "version": 3
   },
   "file_extension": ".py",
   "mimetype": "text/x-python",
   "name": "python",
   "nbconvert_exporter": "python",
   "pygments_lexer": "ipython3",
   "version": "3.10.11"
  }
 },
 "nbformat": 4,
 "nbformat_minor": 2
}
