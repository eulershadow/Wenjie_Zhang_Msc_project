{
 "cells": [
  {
   "cell_type": "code",
   "execution_count": 1,
   "metadata": {},
   "outputs": [
    {
     "name": "stdout",
     "output_type": "stream",
     "text": [
      "Jupyter environment detected. Enabling Open3D WebVisualizer.\n",
      "[Open3D INFO] WebRTC GUI backend enabled.\n",
      "[Open3D INFO] WebRTCWindowSystem: HTTP handshake server disabled.\n"
     ]
    }
   ],
   "source": [
    "from pointnetfunct.model_loader import vtp_to_point_cloud\n",
    "import pointnetfunct.data_process_ml as data_process_ml\n",
    "from pointnetfunct.PointNet_struct import PointNet,PointNet_2Branch,PointNet_3Branch\n",
    "from pointnetfunct.PointNet_trainingfunct import load_model\n",
    "import torch\n",
    "import numpy as np\n",
    "from torchvision import transforms"
   ]
  },
  {
   "cell_type": "code",
   "execution_count": 2,
   "metadata": {},
   "outputs": [
    {
     "name": "stderr",
     "output_type": "stream",
     "text": [
      "d:\\Universityofleeds\\MSC_PROG\\Msc_project\\code\\pointnetfunct\\data_process_ml.py:69: SettingWithCopyWarning: \n",
      "A value is trying to be set on a copy of a slice from a DataFrame\n",
      "\n",
      "See the caveats in the documentation: https://pandas.pydata.org/pandas-docs/stable/user_guide/indexing.html#returning-a-view-versus-a-copy\n",
      "  morpho_data_cut1.drop(morpho_data_cut1.columns[3:23], axis=1, inplace=True)\n",
      "d:\\Universityofleeds\\MSC_PROG\\Msc_project\\code\\pointnetfunct\\data_process_ml.py:70: SettingWithCopyWarning: \n",
      "A value is trying to be set on a copy of a slice from a DataFrame\n",
      "\n",
      "See the caveats in the documentation: https://pandas.pydata.org/pandas-docs/stable/user_guide/indexing.html#returning-a-view-versus-a-copy\n",
      "  morpho_data_cut1.drop(['source_x',\"cuttype\",\"dataset\"], axis=1, inplace=True)\n",
      "d:\\Universityofleeds\\MSC_PROG\\Msc_project\\code\\pointnetfunct\\data_process_ml.py:73: SettingWithCopyWarning: \n",
      "A value is trying to be set on a copy of a slice from a DataFrame\n",
      "\n",
      "See the caveats in the documentation: https://pandas.pydata.org/pandas-docs/stable/user_guide/indexing.html#returning-a-view-versus-a-copy\n",
      "  morpho_data_dome.drop(['source_x',\"cuttype\",\"dataset\"], axis=1, inplace=True)\n",
      "C:\\Users\\eulershadow\\AppData\\Local\\Temp\\ipykernel_10388\\88026944.py:9: SettingWithCopyWarning: \n",
      "A value is trying to be set on a copy of a slice from a DataFrame\n",
      "\n",
      "See the caveats in the documentation: https://pandas.pydata.org/pandas-docs/stable/user_guide/indexing.html#returning-a-view-versus-a-copy\n",
      "  morpho_data_cut1.drop(morpho_data_cut1.columns[3:23], axis=1, inplace=True)\n",
      "C:\\Users\\eulershadow\\AppData\\Local\\Temp\\ipykernel_10388\\88026944.py:10: SettingWithCopyWarning: \n",
      "A value is trying to be set on a copy of a slice from a DataFrame\n",
      "\n",
      "See the caveats in the documentation: https://pandas.pydata.org/pandas-docs/stable/user_guide/indexing.html#returning-a-view-versus-a-copy\n",
      "  morpho_data_cut1.drop(['source_x',\"cuttype\"], axis=1, inplace=True)\n",
      "C:\\Users\\eulershadow\\AppData\\Local\\Temp\\ipykernel_10388\\88026944.py:13: SettingWithCopyWarning: \n",
      "A value is trying to be set on a copy of a slice from a DataFrame\n",
      "\n",
      "See the caveats in the documentation: https://pandas.pydata.org/pandas-docs/stable/user_guide/indexing.html#returning-a-view-versus-a-copy\n",
      "  morpho_data_dome.drop(['source_x',\"cuttype\"], axis=1, inplace=True)\n",
      "C:\\Users\\eulershadow\\AppData\\Local\\Temp\\ipykernel_10388\\88026944.py:24: SettingWithCopyWarning: \n",
      "A value is trying to be set on a copy of a slice from a DataFrame\n",
      "\n",
      "See the caveats in the documentation: https://pandas.pydata.org/pandas-docs/stable/user_guide/indexing.html#returning-a-view-versus-a-copy\n",
      "  raw_data.drop((\"sex_female\"),axis=1,inplace=True)\n",
      "C:\\Users\\eulershadow\\AppData\\Local\\Temp\\ipykernel_10388\\88026944.py:25: SettingWithCopyWarning: \n",
      "A value is trying to be set on a copy of a slice from a DataFrame\n",
      "\n",
      "See the caveats in the documentation: https://pandas.pydata.org/pandas-docs/stable/user_guide/indexing.html#returning-a-view-versus-a-copy\n",
      "  raw_data['age'].fillna(raw_data['age'].mean(), inplace=True)\n"
     ]
    }
   ],
   "source": [
    "morpho_path = \".\\AneuX\\data-v1.0\\data\\morpho-per-cut.csv\"\n",
    "patient_path = \".\\AneuX\\data-v1.0\\data\\clinical.csv\"\n",
    "morpho_data_patient = data_process_ml.read_and_combine_data(morpho_path,patient_path)\n",
    "merged_dataset = data_process_ml.encode_column(morpho_data_patient)\n",
    "merged_dataset = data_process_ml.drop_columns(merged_dataset)\n",
    "morpho_data_cut1,morpho_data_dome = data_process_ml.output_cut1anddome(merged_dataset)\n",
    "\n",
    "morpho_data_cut1 = merged_dataset[merged_dataset[\"cuttype\"] == \"cut1\"]\n",
    "morpho_data_cut1.drop(morpho_data_cut1.columns[3:23], axis=1, inplace=True)\n",
    "morpho_data_cut1.drop(['source_x',\"cuttype\"], axis=1, inplace=True)\n",
    "\n",
    "morpho_data_dome = merged_dataset[merged_dataset[\"cuttype\"] == \"dome\"]\n",
    "morpho_data_dome.drop(['source_x',\"cuttype\"], axis=1, inplace=True)\n",
    "#morpho_data_dome.set_index(\"dataset\")\n",
    "\n",
    "\n",
    "raw_data = morpho_data_dome\n",
    "#raw_data.drop([\"dataset\"], axis=1, inplace=True)\n",
    "#raw_data = morpho_data_dome.astype(float)\n",
    "\n",
    "raw_data.loc[raw_data['sex_male'] == 0, 'sex_male'] = 2\n",
    "#print(self.raw_data.iloc[0])\n",
    "#raw_data.drop((\"status_ruptured\"),axis=1,inplace=True)\n",
    "raw_data.drop((\"sex_female\"),axis=1,inplace=True)\n",
    "raw_data['age'].fillna(raw_data['age'].mean(), inplace=True)"
   ]
  },
  {
   "cell_type": "code",
   "execution_count": 3,
   "metadata": {},
   "outputs": [],
   "source": [
    "def pointnet_testcase(model_path,IA_parameters,model,label):\n",
    "    pointnet_copy = PointNet_2Branch(classes=2)\n",
    "\n",
    "    load_model(pointnet_copy, model_path)    \n",
    "    y_true = []\n",
    "    y_pred = []\n",
    "    y_pred_result = []\n",
    "    y_probs = []\n",
    "    pointnet_copy = pointnet_copy.to(\"cpu\")\n",
    "    with torch.no_grad():\n",
    "        transform = transforms.ToTensor()\n",
    "        inputs_v = model\n",
    "        inputs_v = np.asarray(inputs_v.points)\n",
    "        inputs_v = transform(inputs_v)\n",
    "\n",
    "        print(inputs_v)\n",
    "        inputs_v3 = torch.from_numpy(np.array(IA_parameters,dtype = np.float64))\n",
    "        \n",
    "        inputs_v = inputs_v.to(torch.float32)\n",
    "        inputs_v = inputs_v.squeeze(1).permute(0, 2, 1)\n",
    "        inputs_v3 = inputs_v3.to(torch.float32)\n",
    "        pointnet_copy.eval()\n",
    "\n",
    "        output = pointnet_copy.forward(inputs_v,inputs_v3)\n",
    "        \n",
    "        #print(torch.exp(outputs))\n",
    "\n",
    "        outputs_value = (torch.max(torch.exp(output), 1)[0]).data.cpu().numpy()\n",
    "        outputs_result = (torch.max(torch.exp(output), 1)[1]).data.cpu().numpy()\n",
    "        \n",
    "        \n",
    "        #print(outputs)\n",
    "        y_pred.extend(outputs_value)\n",
    "        y_pred_result.extend(outputs_result)\n",
    "            \n",
    "        y_true.extend(label)\n",
    "        y_probs.extend(output)\n",
    "            \n",
    "    return y_true,y_pred,y_pred_result,y_probs"
   ]
  },
  {
   "cell_type": "code",
   "execution_count": 10,
   "metadata": {},
   "outputs": [
    {
     "name": "stdout",
     "output_type": "stream",
     "text": [
      "tensor([[[36.9034, 35.2812, 20.7851],\n",
      "         [40.0638, 33.5709, 18.9951],\n",
      "         [37.1639, 37.5233, 20.1238],\n",
      "         ...,\n",
      "         [35.9780, 33.7617, 23.7320],\n",
      "         [38.0551, 36.0254, 15.5611],\n",
      "         [41.7114, 30.1818, 23.1558]]], dtype=torch.float64)\n"
     ]
    },
    {
     "name": "stderr",
     "output_type": "stream",
     "text": [
      "C:\\Users\\eulershadow\\AppData\\Local\\Temp\\ipykernel_1624\\3564381691.py:5: SettingWithCopyWarning: \n",
      "A value is trying to be set on a copy of a slice from a DataFrame\n",
      "\n",
      "See the caveats in the documentation: https://pandas.pydata.org/pandas-docs/stable/user_guide/indexing.html#returning-a-view-versus-a-copy\n",
      "  row.drop([\"dataset\"], axis=1, inplace=True)\n",
      "C:\\Users\\eulershadow\\AppData\\Local\\Temp\\ipykernel_1624\\3564381691.py:7: SettingWithCopyWarning: \n",
      "A value is trying to be set on a copy of a slice from a DataFrame\n",
      "\n",
      "See the caveats in the documentation: https://pandas.pydata.org/pandas-docs/stable/user_guide/indexing.html#returning-a-view-versus-a-copy\n",
      "  row.drop((\"status_ruptured\"),axis=1,inplace=True)\n"
     ]
    },
    {
     "data": {
      "text/plain": [
       "([0.0], [0.80120206], [0], [tensor([-0.2216, -1.6155])])"
      ]
     },
     "execution_count": 10,
     "metadata": {},
     "output_type": "execute_result"
    }
   ],
   "source": [
    "modelcov_vtp = vtp_to_point_cloud(\"./test_model/C0014_cut1.vtp\",points=2000)\n",
    "model_path = \"./final_models/2000points/cut1/pointnet_cut1_2branch_uniform_2000pt.pth\"\n",
    "model_name = \"C0014\"\n",
    "row = raw_data[raw_data[\"dataset\"] == model_name]\n",
    "row.drop([\"dataset\"], axis=1, inplace=True)\n",
    "label = row[\"status_ruptured\"]\n",
    "row.drop((\"status_ruptured\"),axis=1,inplace=True)\n",
    "row = row.astype(float)\n",
    "pointnet_testcase(model_path,row,modelcov_vtp,label)"
   ]
  },
  {
   "cell_type": "code",
   "execution_count": 23,
   "metadata": {},
   "outputs": [],
   "source": [
    "from pointnetfunct.model_loader import vtp_to_mesh,vtp_to_point_cloud\n",
    "import open3d as o3d\n",
    "#mesh_vessel_vtp = vtp_to_point_cloud(\"./test_model/SNF00000614.vtp\", points= 2000)\n",
    "mesh_vessel_vtp =  o3d.io.read_triangle_mesh(\"./test_model/SNF00000614_cut1.stl\")\n",
    "mesh_vessel_vtp = vtp_to_mesh(\"./test_model/C0014_cut1.vtp\")\n",
    "o3d.visualization.draw_geometries([mesh_vessel_vtp])"
   ]
  },
  {
   "cell_type": "code",
   "execution_count": 24,
   "metadata": {},
   "outputs": [],
   "source": [
    "\n",
    "# Create a visualizer\n",
    "vis = o3d.visualization.Visualizer()\n",
    "vis.create_window()\n",
    "\n",
    "# Add the mesh to the visualizer\n",
    "vis.add_geometry(mesh_vessel_vtp)\n",
    "\n",
    "# Get the render options and enable lighting\n",
    "opt = vis.get_render_option()\n",
    "opt.light_on = False\n",
    "opt.mesh_show_back_face = False\n",
    "\n",
    "\n",
    "# Run the visualizer\n",
    "vis.run()\n",
    "vis.destroy_window()\n"
   ]
  }
 ],
 "metadata": {
  "kernelspec": {
   "display_name": "Python 3",
   "language": "python",
   "name": "python3"
  },
  "language_info": {
   "codemirror_mode": {
    "name": "ipython",
    "version": 3
   },
   "file_extension": ".py",
   "mimetype": "text/x-python",
   "name": "python",
   "nbconvert_exporter": "python",
   "pygments_lexer": "ipython3",
   "version": "3.10.11"
  }
 },
 "nbformat": 4,
 "nbformat_minor": 2
}
