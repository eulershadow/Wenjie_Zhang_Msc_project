{
 "cells": [
  {
   "cell_type": "code",
   "execution_count": null,
   "metadata": {},
   "outputs": [],
   "source": [
    "\n",
    "\n",
    "import os\n",
    "import numpy as np\n",
    "import itertools\n",
    "import math, random\n",
    "random.seed = 42\n",
    "\n",
    "import torch\n",
    "from torch.utils.data import Dataset, DataLoader\n",
    "from torchvision import transforms, utils\n",
    "\n",
    "import scipy.spatial.distance\n",
    "# import plotly.graph_objects as go\n",
    "# import plotly.express as px\n",
    "import matplotlib.pyplot as plt\n",
    "from sklearn.metrics import confusion_matrix\n",
    "\n"
   ]
  },
  {
   "cell_type": "code",
   "execution_count": null,
   "metadata": {},
   "outputs": [],
   "source": [
    "\n",
    "#load 3d moded\n",
    "path = \"../input/modelnet10-princeton-3d-object-dataset/ModelNet10\"\n",
    "\n",
    "folders = [dir for dir in sorted(os.listdir(path)) if os.path.isdir(path/dir)]\n",
    "classes = {folder: i for i, folder in enumerate(folders)};\n",
    "classes\n",
    "\n"
   ]
  },
  {
   "cell_type": "markdown",
   "metadata": {},
   "source": [
    "# PointNet model"
   ]
  },
  {
   "cell_type": "code",
   "execution_count": null,
   "metadata": {},
   "outputs": [],
   "source": [
    "from torch import Tensor\n",
    "from torch.nn import Sequential, Linear, ReLU,PointNet,PointNetLayer\n",
    "\n",
    "\n",
    "class PointNet(torch.nn.Module):\n",
    "    def __init__(self,dataset):\n",
    "        super().__init__()\n",
    "\n",
    "        self.conv1 = PointNetLayer(3, 32)\n",
    "        self.conv2 = PointNetLayer(32, 32)\n",
    "        self.classifier = Linear(32, dataset.num_classes)\n",
    "\n",
    "    def forward(self,\n",
    "        pos: Tensor,\n",
    "        edge_index: Tensor,\n",
    "        batch: Tensor,\n",
    "    ) -> Tensor:\n",
    "\n",
    "        # Perform two-layers of message passing:\n",
    "        h = self.conv1(h=pos, pos=pos, edge_index=edge_index)\n",
    "        h = h.relu()\n",
    "        h = self.conv2(h=h, pos=pos, edge_index=edge_index)\n",
    "        h = h.relu()\n",
    "\n",
    "        # Global Pooling:\n",
    "        # h = global_max_pool(h, batch)  # [num_examples, hidden_channels]\n",
    "\n",
    "        # Classifier:\n",
    "        return self.classifier(h)"
   ]
  },
  {
   "cell_type": "markdown",
   "metadata": {},
   "source": [
    "# PointNet ++"
   ]
  },
  {
   "cell_type": "code",
   "execution_count": null,
   "metadata": {},
   "outputs": [],
   "source": []
  }
 ],
 "metadata": {
  "kernelspec": {
   "display_name": "Python 3",
   "language": "python",
   "name": "python3"
  },
  "language_info": {
   "name": "python",
   "version": "3.10.11"
  }
 },
 "nbformat": 4,
 "nbformat_minor": 2
}
