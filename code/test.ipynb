{
 "cells": [
  {
   "cell_type": "code",
   "execution_count": 9,
   "metadata": {},
   "outputs": [
    {
     "name": "stdout",
     "output_type": "stream",
     "text": [
      "1\n",
      "2\n",
      "5\n",
      "5\n"
     ]
    }
   ],
   "source": [
    "import sys\n",
    "lines = [\"4\",\"2\",\"3\",\"31\",\"32\"]\n",
    "# for line in sys.stdin:\n",
    "#   lines.append(line)\n",
    "\n",
    "for i in lines[1:]:\n",
    "  inta = int(i)\n",
    "  num = 0\n",
    "  \n",
    "  for j in range(70):\n",
    "      if 2**j >= inta:\n",
    "          num = j\n",
    "          print(num)\n",
    "          break\n",
    "  "
   ]
  },
  {
   "cell_type": "code",
   "execution_count": 27,
   "metadata": {},
   "outputs": [
    {
     "name": "stdout",
     "output_type": "stream",
     "text": [
      "true\n"
     ]
    }
   ],
   "source": [
    "from itertools import permutations\n",
    "lines = [\"ffdcbgadc\", \"dbc\"]\n",
    "# for line in sys.stdin:\n",
    "#    lines.append(line)\n",
    "def contains_permutation(A, B):\n",
    "    if len(B) > len(A):\n",
    "        return False\n",
    "    \n",
    "    def count_chars(string):\n",
    "        char_count = {}\n",
    "        for char in string:\n",
    "            if char in char_count:\n",
    "                char_count[char] += 1\n",
    "            else:\n",
    "                char_count[char] = 1\n",
    "        return char_count\n",
    "    \n",
    "    target_count = count_chars(B)\n",
    "    window_count = {}\n",
    "    \n",
    "    for i in range(len(A)):\n",
    "        if A[i] in window_count:\n",
    "            window_count[A[i]] += 1\n",
    "        else:\n",
    "            window_count[A[i]] = 1\n",
    "        \n",
    "        if i >= len(B):\n",
    "            left_char = A[i - len(B)]\n",
    "            if window_count[left_char] == 1:\n",
    "                del window_count[left_char]\n",
    "            else:\n",
    "                window_count[left_char] -= 1\n",
    "        \n",
    "        if window_count == target_count:\n",
    "            print(\"true\")\n",
    "            return\n",
    "    print(\"false\")\n",
    "    return\n",
    "contains_permutation(lines[0],lines[1])"
   ]
  },
  {
   "cell_type": "code",
   "execution_count": 57,
   "metadata": {},
   "outputs": [
    {
     "name": "stdout",
     "output_type": "stream",
     "text": [
      "110.10.0.1:50000-110.10.0.1:443\n",
      "192.168.1.1:50000-110.10.0.254:9999\n"
     ]
    }
   ],
   "source": [
    "import sys\n",
    "import ipaddress\n",
    "lines = [\"2\",\n",
    "         \"SNAT --sip 192.168.0.0/24 --to 110.10.0.1\",\n",
    "         \"DNAT --sip 192.168.1.0/24 --dip 110.10.0.1 --to 110.10.0.254:9999\",\n",
    "         \"2\",\n",
    "         \"192.168.0.1:50000-110.10.0.1:443\",\n",
    "         \"192.168.1.1:50000-110.10.0.1:443\"]\n",
    "    \n",
    "# 定义地址转换规则类\n",
    "class AddressRule:\n",
    "    def __init__(self, rule_type, sip=None, sport=None, dip=None, dport=None, to_ip=None, to_port=None):\n",
    "        self.rule_type = rule_type\n",
    "        self.sip = sip\n",
    "        self.sport = sport\n",
    "        self.dip = dip\n",
    "        self.dport = dport\n",
    "        self.to_ip = to_ip\n",
    "        self.to_port = to_port\n",
    "\n",
    "    # 判断规则是否匹配给定的IP报文\n",
    "    def matches(self, packet):\n",
    "        if self.sip and not packet.source_ip in self.sip:\n",
    "            return False\n",
    "        if self.sport and packet.source_port != self.sport:\n",
    "            return False\n",
    "        if self.dip and not packet.dest_ip in self.dip:\n",
    "            return False\n",
    "        if self.dport and packet.dest_port != self.dport:\n",
    "            return False\n",
    "        return True\n",
    "\n",
    "# 定义IP报文类\n",
    "class IPPacket:\n",
    "    def __init__(self, source_ip, source_port, dest_ip, dest_port):\n",
    "        self.source_ip = source_ip\n",
    "        self.source_port = source_port\n",
    "        self.dest_ip = dest_ip\n",
    "        self.dest_port = dest_port\n",
    "\n",
    "# 解析地址转换规则\n",
    "def parse_rule(rule_str):\n",
    "    parts = rule_str.split()\n",
    "    #print(parts)\n",
    "    rule_type = parts[0]\n",
    "    sip, sport, dip, dport = None, None, None, None\n",
    "    to_ip, to_port = None, None\n",
    "\n",
    "    for i in range(1, len(parts)):\n",
    "        if parts[i] == \"--sip\":\n",
    "            sip = ipaddress.ip_network(parts[i + 1])\n",
    "        elif parts[i] == \"--sport\":\n",
    "            sport = int(parts[i + 1])\n",
    "        elif parts[i] == \"--dip\":\n",
    "            dip = ipaddress.ip_network(parts[i + 1])\n",
    "        elif parts[i] == \"--dport\":\n",
    "            dport = int(parts[i + 1])\n",
    "        elif parts[i] == \"--to\":\n",
    "            to_parts = parts[i + 1].split(':')\n",
    "            to_ip = ipaddress.ip_address(to_parts[0])\n",
    "            \n",
    "            if len(to_parts) > 1:\n",
    "                to_port = int(to_parts[1])\n",
    "            \n",
    "            #print(to_port)\n",
    "\n",
    "    return AddressRule(rule_type, sip, sport, dip, dport, to_ip, to_port)\n",
    "\n",
    "# 解析IP报文\n",
    "def parse_packet(packet_str):\n",
    "    source, dest = packet_str.split('-')\n",
    "    source_ip, source_port = source.split(':')\n",
    "    dest_ip, dest_port = dest.split(':')\n",
    "    return IPPacket(ipaddress.ip_address(source_ip), int(source_port), ipaddress.ip_address(dest_ip), int(dest_port))\n",
    "\n",
    "# 应用地址转换规则到IP报文\n",
    "def apply_rule(rule, packet):\n",
    "    if rule.rule_type == \"SNAT\":\n",
    "        if rule.to_ip:\n",
    "            packet.source_ip = rule.to_ip\n",
    "        if rule.to_port:\n",
    "            packet.source_port = rule.to_port\n",
    "    elif rule.rule_type == \"DNAT\":\n",
    "        if rule.to_ip:\n",
    "            packet.dest_ip = rule.to_ip\n",
    "        if rule.to_port:\n",
    "            packet.dest_port = rule.to_port\n",
    "    return packet\n",
    "\n",
    "# 主函数\n",
    "def main():\n",
    "    # 解析地址转换规则\n",
    "    num_rules = int(lines[0])\n",
    "    rules = []\n",
    "    for linea in lines[1:num_rules+1]:\n",
    "        rule_str = linea\n",
    "        rule = parse_rule(rule_str)\n",
    "        rules.append(rule)\n",
    "\n",
    "    # 解析IP报文\n",
    "    num_packets = int(lines[num_rules+1])\n",
    "    packets = []\n",
    "    for linea in lines[num_packets+2:]:\n",
    "        packet_str = linea\n",
    "        packet = parse_packet(packet_str)\n",
    "        packets.append(packet)\n",
    "\n",
    "    # 应用地址转换规则到IP报文\n",
    "    for packet in packets:\n",
    "        for rule in rules:\n",
    "            if rule.matches(packet):\n",
    "                packet = apply_rule(rule, packet)\n",
    "        print(f\"{packet.source_ip}:{packet.source_port}-{packet.dest_ip}:{packet.dest_port}\")\n",
    "\n",
    "if __name__ == \"__main__\":\n",
    "    main()"
   ]
  },
  {
   "cell_type": "code",
   "execution_count": 81,
   "metadata": {},
   "outputs": [
    {
     "name": "stdout",
     "output_type": "stream",
     "text": [
      "[0, 1, 2, 2, 4, 4, 5, 7]\n",
      "5\n"
     ]
    }
   ],
   "source": [
    "\n",
    "lines = [\"7 0 1 2 2 4 4 5\", \"4\"]\n",
    "\n",
    "    \n",
    "array2 = lines[0].split()\n",
    "array = [int(i) for i in array2]\n",
    "array.sort()\n",
    "print(array)\n",
    "\n",
    "find = -1\n",
    "for i in range(len(array)):\n",
    "    if int(array[i]) == int(lines[1]):\n",
    "        find = i+1\n",
    "        break\n",
    "print(find)"
   ]
  },
  {
   "cell_type": "code",
   "execution_count": 83,
   "metadata": {},
   "outputs": [
    {
     "name": "stdout",
     "output_type": "stream",
     "text": [
      "25\n"
     ]
    }
   ],
   "source": [
    "lines = [\"5\", \"5 5 5 1 3\"]\n",
    "def min_water_drops(n, heights):\n",
    "    drops = 0\n",
    "    \n",
    "    for i in range(n):\n",
    "        if heights[i] < 6:\n",
    "            if i > 0 and heights[i-1] < 6:\n",
    "                # 检查左边是否有满水的水滴，有则戳破并发射水滴\n",
    "                drops += 6 - heights[i]\n",
    "                heights[i] = 6\n",
    "            if i < n - 1 and heights[i+1] < 6:\n",
    "                # 检查右边是否有满水的水滴，有则戳破并发射水滴\n",
    "                drops += 6 - heights[i]\n",
    "                heights[i] = 6\n",
    "                \n",
    "    return drops\n",
    "\n",
    "# Read input\n",
    "n = int(lines[0])\n",
    "m = list(map(int, lines[1].split()))\n",
    "\n",
    "# Calculate and print the minimum number of drops needed\n",
    "print(min_water_drops(n, m))"
   ]
  }
 ],
 "metadata": {
  "kernelspec": {
   "display_name": "Python 3",
   "language": "python",
   "name": "python3"
  },
  "language_info": {
   "codemirror_mode": {
    "name": "ipython",
    "version": 3
   },
   "file_extension": ".py",
   "mimetype": "text/x-python",
   "name": "python",
   "nbconvert_exporter": "python",
   "pygments_lexer": "ipython3",
   "version": "3.10.11"
  }
 },
 "nbformat": 4,
 "nbformat_minor": 2
}
