{
 "cells": [
  {
   "cell_type": "code",
   "execution_count": 2,
   "metadata": {},
   "outputs": [],
   "source": [
    "import numpy as np\n",
    "import matplotlib.pyplot as plt\n",
    "\n",
    "def farthest_point_sample(xyz, npoint): \n",
    "\n",
    "    \"\"\"\n",
    "    Input:\n",
    "        xyz: pointcloud data, [B, N, 3]\n",
    "        npoint: number of samples\n",
    "    Return:\n",
    "        centroids: sampled pointcloud index, [B, npoint]\n",
    "    \"\"\"\n",
    "\n",
    "    xyz = xyz.transpose(0,2,1)\n",
    "    print(xyz,xyz.shape)\n",
    "    B, N, C = xyz.shape\n",
    "    print(B,N,C)\n",
    "    \n",
    "    centroids = np.zeros((B, npoint))    # 采样点矩阵（B, npoint）\n",
    "    print(centroids)\n",
    "    distance = np.ones((B, N)) * 1e10                       # 采样点到所有点距离（B, N）\n",
    "    print(distance)\n",
    "    \n",
    "\n",
    "    batch_indices = np.arange(B)        # batch_size 数组\n",
    "    \n",
    "    barycenter = np.sum((xyz), 1)                                    #计算重心坐标 及 距离重心最远的点\n",
    "    print(barycenter)\n",
    "    barycenter = barycenter/xyz.shape[1]\n",
    "    print(barycenter)\n",
    "    barycenter = barycenter.reshape(B, 1, C)   #numpy中的reshape相当于torch中的view\n",
    "    print(barycenter)\n",
    "\n",
    "    dist = np.sum((xyz - barycenter) ** 2, -1)\n",
    "    farthest = np.argmax(dist,1)                                     #将距离重心最远的点作为第一个点，这里跟torch.max不一样\n",
    "\n",
    "    for i in range(npoint):\n",
    "        print(\"-------------------------------------------------------\")\n",
    "        print(\"The %d farthest pts %s \" % (i, farthest))\n",
    "        centroids[:, i] = farthest                                      # 更新第i个最远点\n",
    "        centroid = xyz[batch_indices, farthest, :].reshape(B, 1, C)        # 取出这个最远点的xyz坐标\n",
    "        dist = np.sum((xyz - centroid) ** 2, -1)                     # 计算点集中的所有点到这个最远点的欧式距离，-1消掉了xyz那个维度\n",
    "        print(\"dist    : \", dist)\n",
    "        mask = dist < distance\n",
    "        print(\"mask %i : %s\" % (i,mask))\n",
    "        distance[mask] = dist[mask]                                     # 更新distance，记录样本中每个点距离所有已出现的采样点（已采样集合中的点）的最小距离\n",
    "        print(\"distance: \", distance)\n",
    "\n",
    "        farthest = np.argmax(distance, -1)                           # 返回最远点索引\n",
    " \n",
    "    return centroids"
   ]
  },
  {
   "cell_type": "code",
   "execution_count": 17,
   "metadata": {},
   "outputs": [
    {
     "name": "stdout",
     "output_type": "stream",
     "text": [
      "[[[0 1 2 3 4 5 6 7 8 9]]]\n",
      "[[[0]\n",
      "  [1]\n",
      "  [2]\n",
      "  [3]\n",
      "  [4]\n",
      "  [5]\n",
      "  [6]\n",
      "  [7]\n",
      "  [8]\n",
      "  [9]]] (1, 10, 1)\n",
      "1 10 1\n",
      "[[0. 0. 0. 0. 0.]]\n",
      "[[1.e+10 1.e+10 1.e+10 1.e+10 1.e+10 1.e+10 1.e+10 1.e+10 1.e+10 1.e+10]]\n",
      "[[45]]\n",
      "[[4.5]]\n",
      "[[[4.5]]]\n",
      "-------------------------------------------------------\n",
      "The 0 farthest pts [0] \n",
      "dist    :  [[ 0  1  4  9 16 25 36 49 64 81]]\n",
      "mask 0 : [[ True  True  True  True  True  True  True  True  True  True]]\n",
      "distance:  [[ 0.  1.  4.  9. 16. 25. 36. 49. 64. 81.]]\n",
      "-------------------------------------------------------\n",
      "The 1 farthest pts [9] \n",
      "dist    :  [[81 64 49 36 25 16  9  4  1  0]]\n",
      "mask 1 : [[False False False False False  True  True  True  True  True]]\n",
      "distance:  [[ 0.  1.  4.  9. 16. 16.  9.  4.  1.  0.]]\n",
      "-------------------------------------------------------\n",
      "The 2 farthest pts [4] \n",
      "dist    :  [[16  9  4  1  0  1  4  9 16 25]]\n",
      "mask 2 : [[False False False  True  True  True  True False False False]]\n",
      "distance:  [[0. 1. 4. 1. 0. 1. 4. 4. 1. 0.]]\n",
      "-------------------------------------------------------\n",
      "The 3 farthest pts [2] \n",
      "dist    :  [[ 4  1  0  1  4  9 16 25 36 49]]\n",
      "mask 3 : [[False False  True False False False False False False False]]\n",
      "distance:  [[0. 1. 0. 1. 0. 1. 4. 4. 1. 0.]]\n",
      "-------------------------------------------------------\n",
      "The 4 farthest pts [6] \n",
      "dist    :  [[36 25 16  9  4  1  0  1  4  9]]\n",
      "mask 4 : [[False False False False False False  True  True False False]]\n",
      "distance:  [[0. 1. 0. 1. 0. 1. 0. 1. 1. 0.]]\n",
      "Sampled pts:  [[0 9 4 2 6]]\n"
     ]
    }
   ],
   "source": [
    "\n",
    "sim_data = np.array([[np.arange(10)]]) \n",
    "print(sim_data)\n",
    "centroids = farthest_point_sample(sim_data, 5).astype(int)\n",
    "print(\"Sampled pts: \", centroids)"
   ]
  },
  {
   "cell_type": "code",
   "execution_count": 11,
   "metadata": {},
   "outputs": [
    {
     "name": "stdout",
     "output_type": "stream",
     "text": [
      "[[0.]\n",
      " [0.]\n",
      " [0.]]\n"
     ]
    }
   ],
   "source": [
    "print(np.zeros((3,1)))"
   ]
  },
  {
   "cell_type": "code",
   "execution_count": 1,
   "metadata": {},
   "outputs": [
    {
     "ename": "NameError",
     "evalue": "name 'np' is not defined",
     "output_type": "error",
     "traceback": [
      "\u001b[1;31m---------------------------------------------------------------------------\u001b[0m",
      "\u001b[1;31mNameError\u001b[0m                                 Traceback (most recent call last)",
      "Cell \u001b[1;32mIn [1], line 3\u001b[0m\n\u001b[0;32m      1\u001b[0m \u001b[38;5;28;01mif\u001b[39;00m \u001b[38;5;18m__name__\u001b[39m \u001b[38;5;241m==\u001b[39m \u001b[38;5;124m'\u001b[39m\u001b[38;5;124m__main__\u001b[39m\u001b[38;5;124m'\u001b[39m:\n\u001b[0;32m      2\u001b[0m     \u001b[38;5;66;03m#二维采样例子\u001b[39;00m\n\u001b[1;32m----> 3\u001b[0m     x, y\u001b[38;5;241m=\u001b[39m \u001b[43mnp\u001b[49m\u001b[38;5;241m.\u001b[39mmgrid[\u001b[38;5;241m100\u001b[39m:\u001b[38;5;241m250\u001b[39m:\u001b[38;5;241m15\u001b[39m, \u001b[38;5;241m200\u001b[39m:\u001b[38;5;241m350\u001b[39m:\u001b[38;5;241m15\u001b[39m]\n\u001b[0;32m      4\u001b[0m     xy \u001b[38;5;241m=\u001b[39m np\u001b[38;5;241m.\u001b[39marray([x\u001b[38;5;241m.\u001b[39mreshape(\u001b[38;5;241m1\u001b[39m,\u001b[38;5;241m-\u001b[39m\u001b[38;5;241m1\u001b[39m), y\u001b[38;5;241m.\u001b[39mreshape(\u001b[38;5;241m1\u001b[39m,\u001b[38;5;241m-\u001b[39m\u001b[38;5;241m1\u001b[39m)]) \n\u001b[0;32m      5\u001b[0m     xy \u001b[38;5;241m=\u001b[39m xy\u001b[38;5;241m.\u001b[39mtranspose(\u001b[38;5;241m1\u001b[39m,\u001b[38;5;241m0\u001b[39m,\u001b[38;5;241m2\u001b[39m)\n",
      "\u001b[1;31mNameError\u001b[0m: name 'np' is not defined"
     ]
    }
   ],
   "source": [
    "if __name__ == '__main__':\n",
    "    #二维采样例子\n",
    "    x, y= np.mgrid[100:250:15, 200:350:15]\n",
    "    xy = np.array([x.reshape(1,-1), y.reshape(1,-1)]) \n",
    "    xy = xy.transpose(1,0,2)\n",
    "    sim_data = xy\n",
    "    centroids = farthest_point_sample(sim_data, 16).astype(int)\n",
    "    print(\"Sampled pts: \", centroids)\n",
    "    print(centroids.shape)\n",
    "    plt.scatter(sim_data[0,0,:],sim_data[0,1,:])\n",
    "    for i in range(centroids.shape[1]):\n",
    "        print(sim_data[0,:,centroids[i]])\n",
    "        plt.scatter(sim_data[0,0,centroids[i]],sim_data[0,1,centroids[i]])"
   ]
  },
  {
   "cell_type": "code",
   "execution_count": 15,
   "metadata": {},
   "outputs": [
    {
     "name": "stdout",
     "output_type": "stream",
     "text": [
      "tensor([3, 0])\n"
     ]
    }
   ],
   "source": [
    "import torch\n",
    "from torch_geometric.nn import fps\n",
    "import torch_cluster\n",
    "\n",
    "x = torch.tensor([[-1.0, -1.0], [-1.0, 1.0], [1.0, -1.0], [1.0, 1.0]])\n",
    "batch = torch.tensor([0, 0, 0, 0])\n",
    "index = fps(x, batch, ratio=0.5)\n",
    "print(index)"
   ]
  },
  {
   "cell_type": "code",
   "execution_count": 1,
   "metadata": {},
   "outputs": [
    {
     "name": "stdout",
     "output_type": "stream",
     "text": [
      "tensor([0, 1, 2]) tensor([4, 0, 6])\n"
     ]
    }
   ],
   "source": [
    "import torch\n",
    "B = torch.zeros(3,4)\n",
    "A = torch.arange(3)\n",
    "C = torch.tensor([4, 0, 6])\n",
    "print(A,C)"
   ]
  },
  {
   "cell_type": "code",
   "execution_count": 11,
   "metadata": {},
   "outputs": [
    {
     "name": "stdout",
     "output_type": "stream",
     "text": [
      "tensor([[0., 0., 0., 0.],\n",
      "        [0., 0., 0., 0.],\n",
      "        [0., 0., 0., 0.],\n",
      "        [0., 0., 0., 0.]])\n",
      "tensor([[0., 0., 0., 0.],\n",
      "        [0., 0., 0., 0.],\n",
      "        [0., 0., 0., 0.]])\n",
      "tensor([[0., 0., 0., 0.],\n",
      "        [0., 0., 0., 0.],\n",
      "        [0., 0., 0., 0.],\n",
      "        [0., 0., 0., 0.],\n",
      "        [0., 0., 0., 0.],\n",
      "        [0., 0., 0., 0.],\n",
      "        [0., 0., 0., 0.]])\n"
     ]
    }
   ],
   "source": [
    "D = torch.zeros(3,4)\n",
    "E = torch.zeros(4,4)\n",
    "print(E)\n",
    "print(D)\n",
    "result = torch.cat((D, E), dim=0)\n",
    "print(result)\n"
   ]
  },
  {
   "cell_type": "code",
   "execution_count": 14,
   "metadata": {},
   "outputs": [
    {
     "name": "stdout",
     "output_type": "stream",
     "text": [
      "tensor([0, 2])\n"
     ]
    }
   ],
   "source": [
    "mask = A < C\n",
    "print(A[mask], C[mask])"
   ]
  },
  {
   "cell_type": "code",
   "execution_count": 9,
   "metadata": {},
   "outputs": [
    {
     "data": {
      "text/plain": [
       "1"
      ]
     },
     "execution_count": 9,
     "metadata": {},
     "output_type": "execute_result"
    }
   ],
   "source": [
    "import pandas as pd\n",
    "list = {\"a\":[1,2], \"b\": [3,4]}\n",
    "df = pd.DataFrame(list)\n",
    "df[df[\"b\"] == 3][\"a\"][0]"
   ]
  },
  {
   "cell_type": "code",
   "execution_count": 1,
   "metadata": {},
   "outputs": [
    {
     "name": "stdout",
     "output_type": "stream",
     "text": [
      "1 3\n"
     ]
    }
   ],
   "source": [
    "def func():\n",
    "    return 1,2,3\n",
    "\n",
    "a,_,b = func()\n",
    "print(a,b)"
   ]
  },
  {
   "cell_type": "code",
   "execution_count": 1,
   "metadata": {},
   "outputs": [
    {
     "name": "stdout",
     "output_type": "stream",
     "text": [
      "[[1 1]\n",
      " [2 0]]\n"
     ]
    },
    {
     "data": {
      "text/plain": [
       "<AxesSubplot: >"
      ]
     },
     "execution_count": 1,
     "metadata": {},
     "output_type": "execute_result"
    },
    {
     "data": {
      "image/png": "[encoded data removed]",
      "text/plain": [
       "<Figure size 640x480 with 2 Axes>"
      ]
     },
     "metadata": {},
     "output_type": "display_data"
    }
   ],
   "source": [
    "from sklearn.metrics import confusion_matrix\n",
    "import seaborn as sns\n",
    "\n",
    "cm = confusion_matrix([1,0,1,0], [0,1,0,0])\n",
    "print(cm)\n",
    "sns.heatmap(cm, annot=True, fmt='d', cmap='Blues', xticklabels=[\"P Neg\",\"P Pos\"], yticklabels=[\"R Neg\",\"R Pos\"])"
   ]
  },
  {
   "cell_type": "code",
   "execution_count": 3,
   "metadata": {},
   "outputs": [
    {
     "data": {
      "text/plain": [
       "<AxesSubplot: >"
      ]
     },
     "execution_count": 3,
     "metadata": {},
     "output_type": "execute_result"
    },
    {
     "data": {
      "image/png": "[encoded data removed]",
      "text/plain": [
       "<Figure size 640x480 with 2 Axes>"
      ]
     },
     "metadata": {},
     "output_type": "display_data"
    }
   ],
   "source": [
    "from sklearn.metrics import confusion_matrix\n",
    "import seaborn as sns\n",
    "real = [1,0,1,0]\n",
    "pred = [0,1,0,0]\n",
    "\n",
    "def dim4_cm (real, pred):\n",
    "\n",
    "    cm = [[0,0,0,0],[0,0,0,0]]\n",
    "    for i in range(len(pred)):\n",
    "        pos = 0\n",
    "        if pred[i] < 0.25:\n",
    "            pos = 0\n",
    "        elif 0.25 <= pred[i] < 0.5:\n",
    "            pos = 1\n",
    "        elif 0.8 > pred[i] >= 0.5:\n",
    "            pos = 2\n",
    "        elif pred[i] >= 0.8:\n",
    "            pos = 3\n",
    "            \n",
    "        if real[i] == 0:\n",
    "\n",
    "            cm[0][pos] += 1\n",
    "        else:\n",
    "            cm[1][pos] += 1\n",
    "    return cm\n",
    "        \n",
    "\n",
    "sns.heatmap(cm, annot=True, fmt='d', cmap='Blues', xticklabels=[\"P Strong Neg\",\"P uncertain Neg\",\"P uncertain Pos\",\"P Strong Pos\"], yticklabels=[\"R Neg\",\"R Pos\",])"
   ]
  }
 ],
 "metadata": {
  "kernelspec": {
   "display_name": "Python 3",
   "language": "python",
   "name": "python3"
  },
  "language_info": {
   "codemirror_mode": {
    "name": "ipython",
    "version": 3
   },
   "file_extension": ".py",
   "mimetype": "text/x-python",
   "name": "python",
   "nbconvert_exporter": "python",
   "pygments_lexer": "ipython3",
   "version": "3.10.11"
  }
 },
 "nbformat": 4,
 "nbformat_minor": 2
}
